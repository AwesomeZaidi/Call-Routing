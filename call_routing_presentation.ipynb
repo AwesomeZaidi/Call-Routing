{
 "cells": [
  {
   "cell_type": "markdown",
   "metadata": {},
   "source": [
    " # Welcome this is our call routing presentation"
   ]
  },
  {
   "cell_type": "markdown",
   "metadata": {},
   "source": [
    "### - Presented by: Jayce Azua and Asim Zaidi"
   ]
  },
  {
   "cell_type": "markdown",
   "metadata": {},
   "source": [
    " ## **Scenario 1:** One-time route cost check"
   ]
  },
  {
   "cell_type": "markdown",
   "metadata": {},
   "source": [
    "### Setting up my modules that I will need in order to run my code"
   ]
  },
  {
   "cell_type": "code",
   "execution_count": 1,
   "metadata": {},
   "outputs": [],
   "source": [
    "# scenario 1 - 3\n",
    "import os\n",
    "import re\n",
    "import sys\n",
    "import time\n",
    "import mmap\n",
    "import random\n",
    "import resource\n",
    "import platform"
   ]
  },
  {
   "cell_type": "markdown",
   "metadata": {},
   "source": [
    "### Memory Usage Function (Inspired by Edwin Cloud)"
   ]
  },
  {
   "cell_type": "code",
   "execution_count": 2,
   "metadata": {},
   "outputs": [],
   "source": [
    "def get_memory(): \n",
    "    \"\"\"Print memory usage to stdout.\"\"\"\n",
    "    usage = resource.getrusage(resource.RUSAGE_SELF).ru_maxrss\n",
    "    if platform.system() == 'Linux':\n",
    "        usage = round(usage/float(1 << 10), 2)\n",
    "    else:\n",
    "        usage = round(usage/float(1 << 20), 2)\n",
    "    print(\"Current Memory Usage: {} mb.\".format(usage))"
   ]
  },
  {
   "cell_type": "markdown",
   "metadata": {},
   "source": [
    "#### We are first going to have to read the file of their routes and cost"
   ]
  },
  {
   "cell_type": "code",
   "execution_count": 3,
   "metadata": {},
   "outputs": [],
   "source": [
    "def read_file(file_name):\n",
    "\t\"\"\"Opens the file and splits the numbers into a list.\"\"\"\n",
    "\twith open('data/' + file_name, \"r\") as file:\n",
    "\t\tnumber_data = file.read()\n",
    "\t\tnumber_data = re.split(',|\\n', number_data)\n",
    "\treturn number_data"
   ]
  },
  {
   "cell_type": "markdown",
   "metadata": {},
   "source": [
    "#### We will then write the cost of that number to look up into our file"
   ]
  },
  {
   "cell_type": "code",
   "execution_count": 4,
   "metadata": {},
   "outputs": [],
   "source": [
    "def write_cost(phone_number, cost):\n",
    "\tf = open('data/' + \"call-costs-1.txt\", \"w\")\n",
    "\tf.write(phone_number + \", \" + number_route_cost)"
   ]
  },
  {
   "cell_type": "markdown",
   "metadata": {},
   "source": [
    "#### Now to look up one number in our for a database of route costs"
   ]
  },
  {
   "cell_type": "code",
   "execution_count": 5,
   "metadata": {},
   "outputs": [],
   "source": [
    "def find_route_cost(number_data, phone_number):\n",
    "\t\"\"\"\n",
    "\t\tnumber_data: list of number, cost, number, cost, etc.\n",
    "\t\tFinds the longest route match for the given phone number and returns the cost.\n",
    "\t\tRuntime: O(n) -> O(p*n)\n",
    "\t\tp = len of phone_number\n",
    "\t\tn = len of number_data list\n",
    "\t\"\"\"\n",
    "\tfor _ in phone_number:\n",
    "\t\tif phone_number in number_data:\n",
    "\t\t\treal_index = number_data.index(phone_number)\n",
    "\t\t\treturn str(number_data[real_index + 1])\n",
    "\t\telse:\n",
    "\t\t\tphone_number = phone_number[:len(phone_number)-1]\n",
    "\n",
    "\treturn str(0) # if number not found"
   ]
  },
  {
   "cell_type": "markdown",
   "metadata": {},
   "source": [
    "### Let's test this out"
   ]
  },
  {
   "cell_type": "code",
   "execution_count": 6,
   "metadata": {},
   "outputs": [
    {
     "name": "stdout",
     "output_type": "stream",
     "text": [
      "\n",
      "Initializing please wait...\n",
      "\n",
      "This took: 0.002.\n",
      "Current Memory Usage: 44.13 mb.\n"
     ]
    }
   ],
   "source": [
    "if __name__ == \"__main__\":\n",
    "\tstart = time.time()\n",
    "\tprint(\"\\nInitializing please wait...\")\n",
    "\tpaths = read_file(\"route-costs-10.txt\")\n",
    "\tphone_number = '+14152348111'\n",
    "\tnumber_route_cost = find_route_cost(paths, phone_number)\n",
    "\twrite_cost(phone_number, number_route_cost)\n",
    "\tload_time = round(time.time() - start, 4)\n",
    "\tprint(\"\\nThis took: {}.\".format(load_time))\n",
    "\tget_memory()"
   ]
  },
  {
   "cell_type": "markdown",
   "metadata": {},
   "source": [
    "### Our the manual solution inspired by Nicoli Safai"
   ]
  },
  {
   "cell_type": "markdown",
   "metadata": {},
   "source": [
    "0. Copy full phone number.\n",
    "1. Open routes file.\n",
    "2. Search for phone number using `CMD+F` (or `CTRL+F` on windows).\n",
    " - If there are no search results, hit `backspace` in search bar.\n",
    "3. Repeat `Step 2` til you find a match.\n",
    " - In the unlikely event you get several matches, choose the cheapest.   \n",
    "\n",
    "If you found a match in Step 3, the cost is the number on the right side of the comma."
   ]
  },
  {
   "cell_type": "code",
   "execution_count": null,
   "metadata": {},
   "outputs": [],
   "source": [
    "cat data/call-cost"
   ]
  },
  {
   "cell_type": "markdown",
   "metadata": {},
   "source": [
    "## **Scenario 2:** List of route costs to check"
   ]
  },
  {
   "cell_type": "code",
   "execution_count": null,
   "metadata": {},
   "outputs": [],
   "source": []
  },
  {
   "cell_type": "code",
   "execution_count": null,
   "metadata": {},
   "outputs": [],
   "source": []
  },
  {
   "cell_type": "code",
   "execution_count": null,
   "metadata": {},
   "outputs": [],
   "source": []
  },
  {
   "cell_type": "code",
   "execution_count": null,
   "metadata": {},
   "outputs": [],
   "source": []
  }
 ],
 "metadata": {
  "kernelspec": {
   "display_name": "Python 3",
   "language": "python",
   "name": "python3"
  },
  "language_info": {
   "codemirror_mode": {
    "name": "ipython",
    "version": 3
   },
   "file_extension": ".py",
   "mimetype": "text/x-python",
   "name": "python",
   "nbconvert_exporter": "python",
   "pygments_lexer": "ipython3",
   "version": "3.7.1"
  }
 },
 "nbformat": 4,
 "nbformat_minor": 2
}
